{
 "cells": [
  {
   "cell_type": "code",
   "execution_count": 4,
   "metadata": {},
   "outputs": [
    {
     "name": "stdout",
     "output_type": "stream",
     "text": [
      " \t-\tx1\tx2\n",
      "z\t0\t3\t2\n",
      "s1\t4\t-2\t-1\n",
      "s2\t2\t2\t-1\n",
      "s3\t1\t-1\t1\n",
      "----------------------------\n",
      " \t-\ts3\tx2\n",
      "z\t3\t-3\t5\n",
      "s1\t2\t2\t-3\n",
      "s2\t4\t-2\t1\n",
      "x1\t1\t-1\t1\n",
      "-----------------------------\n",
      " \t-\ts3\ts1\n",
      "z\t19/3\t1/3\t-5/3\n",
      "x2\t2/3\t2/3\t-1/3\n",
      "s2\t14/3\t-4/3\t-1/3\n",
      "x1\t5/3\t-1/3\t-1/3\n",
      "-----------------------------\n",
      " \t-\ts2\ts1\n",
      "z\t15/2\t-1/4\t-7/4\n",
      "x2\t3\t-1/2\t-1/2\n",
      "s3\t7/2\t-3/4\t-1/4\n",
      "x1\t1/2\t1/4\t-1/4\n"
     ]
    }
   ],
   "source": [
    "import simplesso_vanderbei as s\n",
    "\n",
    "c=[3,2] #coefficienti funzione obiettivo\n",
    "b=[4,2,1] #vettore termini noti\n",
    "A=[[2,1],[-2,1],[1,-1]] #matrice\n",
    "t=s.Tableau(c,'max')\n",
    "t.aggiungi_vincolo(A[0],b[0])\n",
    "t.aggiungi_vincolo(A[1],b[1])\n",
    "t.aggiungi_vincolo(A[2],b[2])\n",
    "t.crea_primo_tableau()\n",
    "t.mostra_tableau()\n",
    "print('----------------------------')\n",
    "t.pivot(\"s3\",\"x1\") #in input si mette prima variabile di base e poi quella non in base\n",
    "t.mostra_tableau()\n",
    "print('-----------------------------')\n",
    "t.pivot(\"s1\",\"x2\")\n",
    "t.mostra_tableau()\n",
    "print('-----------------------------')\n",
    "t.pivot(\"s2\",\"s3\")\n",
    "t.mostra_tableau()"
   ]
  },
  {
   "cell_type": "code",
   "execution_count": null,
   "metadata": {},
   "outputs": [],
   "source": []
  },
  {
   "cell_type": "code",
   "execution_count": null,
   "metadata": {},
   "outputs": [],
   "source": []
  }
 ],
 "metadata": {
  "kernelspec": {
   "display_name": "Python 3",
   "language": "python",
   "name": "python3"
  },
  "language_info": {
   "codemirror_mode": {
    "name": "ipython",
    "version": 3
   },
   "file_extension": ".py",
   "mimetype": "text/x-python",
   "name": "python",
   "nbconvert_exporter": "python",
   "pygments_lexer": "ipython3",
   "version": "3.6.3"
  }
 },
 "nbformat": 4,
 "nbformat_minor": 4
}
